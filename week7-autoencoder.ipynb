{
 "cells": [
  {
   "cell_type": "markdown",
   "metadata": {
    "id": "VB9pbERmm8IZ"
   },
   "source": [
    "\n",
    "# Simple AutoEncoders with Image Data\n",
    "\n",
    "Here is a simple autoencoder with just the dense layers."
   ]
  },
  {
   "cell_type": "markdown",
   "metadata": {
    "id": "LlxN-eb5m8Ia"
   },
   "source": [
    "Load the data and import the libraries."
   ]
  },
  {
   "cell_type": "code",
   "execution_count": 1,
   "metadata": {
    "id": "MGqNWU6Ym8Ia"
   },
   "outputs": [
    {
     "name": "stdout",
     "output_type": "stream",
     "text": [
      "WARNING:tensorflow:From C:\\Users\\arsha\\anaconda3\\Lib\\site-packages\\keras\\src\\losses.py:2976: The name tf.losses.sparse_softmax_cross_entropy is deprecated. Please use tf.compat.v1.losses.sparse_softmax_cross_entropy instead.\n",
      "\n"
     ]
    },
    {
     "name": "stderr",
     "output_type": "stream",
     "text": [
      "C:\\Users\\arsha\\anaconda3\\Lib\\site-packages\\paramiko\\transport.py:219: CryptographyDeprecationWarning: Blowfish has been deprecated\n",
      "  \"class\": algorithms.Blowfish,\n"
     ]
    }
   ],
   "source": [
    "#\n",
    "# Import relevant Libraries\n",
    "#\n",
    "import numpy as np\n",
    "import tensorflow\n",
    "import tensorflow as tf\n",
    "import matplotlib.pyplot as plt\n",
    "from tensorflow.keras.models import Model\n",
    "from tensorflow.keras.datasets import mnist\n",
    "from tensorflow.keras.layers import Input, Dense, Flatten,Reshape\n",
    "from tensorflow.keras.layers import Layer \n",
    "from keras import Sequential\n",
    "from keras.metrics import binary_accuracy\n",
    "from skimage import metrics"
   ]
  },
  {
   "cell_type": "code",
   "execution_count": 2,
   "metadata": {
    "id": "db4OX9Bdm8Ib"
   },
   "outputs": [],
   "source": [
    "# Load MNIST data and store it in variables x_train, x_test. Note -  we do not need labels as it's autoencoder.\n",
    "(x_train, train_labels), (x_test, test_labels) = mnist.load_data()\n"
   ]
  },
  {
   "cell_type": "code",
   "execution_count": 3,
   "metadata": {
    "colab": {
     "base_uri": "https://localhost:8080/",
     "height": 129
    },
    "id": "Y9VG7JbKm8Ic",
    "outputId": "d416dcff-0379-429e-ccaa-4817b49adfe2"
   },
   "outputs": [
    {
     "data": {
      "image/png": "[encoded data removed]",
      "text/plain": [
       "<Figure size 2000x400 with 10 Axes>"
      ]
     },
     "metadata": {},
     "output_type": "display_data"
    }
   ],
   "source": [
    "# Plot a few data points\n",
    "%matplotlib inline\n",
    "\n",
    "n = 10  # Number of records that will display\n",
    "plt.figure(figsize=(20, 4))\n",
    "for i in range(n):\n",
    "    # display original\n",
    "    ax = plt.subplot(2, n, i + 1)\n",
    "    plt.imshow(x_test[i].reshape(28, 28))\n",
    "    plt.gray()\n",
    "    ax.get_xaxis().set_visible(False)\n",
    "    ax.get_yaxis().set_visible(False)\n",
    "\n",
    "plt.show()"
   ]
  },
  {
   "cell_type": "code",
   "execution_count": 4,
   "metadata": {
    "id": "l7J4pLFUm8Ic"
   },
   "outputs": [],
   "source": [
    "# Normalize train data - Divide by 255\n",
    "# Normalize test data - Divide by 255\n",
    "x_train = x_train.astype('float32') / 255.\n",
    "x_test = x_test.astype('float32') / 255.\n"
   ]
  },
  {
   "cell_type": "markdown",
   "metadata": {
    "id": "iN3Dtyymm8Ic"
   },
   "source": [
    "## Basic AutoEncoder\n",
    "\n",
    "Build a basic symmetric encoder-decoder network that recreates the image.  This network could be used in dimensionaliry reduction or feature learning. "
   ]
  },
  {
   "cell_type": "code",
   "execution_count": 5,
   "metadata": {
    "id": "sZ0Haczem8Id"
   },
   "outputs": [
    {
     "name": "stdout",
     "output_type": "stream",
     "text": [
      "WARNING:tensorflow:From C:\\Users\\arsha\\anaconda3\\Lib\\site-packages\\keras\\src\\backend.py:873: The name tf.get_default_graph is deprecated. Please use tf.compat.v1.get_default_graph instead.\n",
      "\n"
     ]
    }
   ],
   "source": [
    "encoder = Sequential()\n",
    "encoder.add(Flatten(input_shape=[28,28]))\n",
    "\n",
    "#\n",
    "# Add as many hidden layers in the encoder network of your choise\n",
    "#\n",
    "encoder.add(Dense(400, activation='relu'))\n",
    "encoder.add(Dense(200, activation='relu'))\n",
    "encoder.add(Dense(100, activation='relu'))\n",
    "encoder.add(Dense(50, activation='relu'))\n",
    "encoder.add(Dense(25, activation='relu'))\n",
    "\n",
    "\n",
    "#\n",
    "\n",
    "# The last TWO layers of the encoder and decoder must be matched (see the following decoder cell.\n",
    "#\n"
   ]
  },
  {
   "cell_type": "code",
   "execution_count": 6,
   "metadata": {},
   "outputs": [
    {
     "name": "stdout",
     "output_type": "stream",
     "text": [
      "Model: \"sequential\"\n",
      "_________________________________________________________________\n",
      " Layer (type)                Output Shape              Param #   \n",
      "=================================================================\n",
      " flatten (Flatten)           (None, 784)               0         \n",
      "                                                                 \n",
      " dense (Dense)               (None, 400)               314000    \n",
      "                                                                 \n",
      " dense_1 (Dense)             (None, 200)               80200     \n",
      "                                                                 \n",
      " dense_2 (Dense)             (None, 100)               20100     \n",
      "                                                                 \n",
      " dense_3 (Dense)             (None, 50)                5050      \n",
      "                                                                 \n",
      " dense_4 (Dense)             (None, 25)                1275      \n",
      "                                                                 \n",
      "=================================================================\n",
      "Total params: 420625 (1.60 MB)\n",
      "Trainable params: 420625 (1.60 MB)\n",
      "Non-trainable params: 0 (0.00 Byte)\n",
      "_________________________________________________________________\n"
     ]
    }
   ],
   "source": [
    "# print the encoder model\n",
    "encoder.summary()"
   ]
  },
  {
   "cell_type": "code",
   "execution_count": 7,
   "metadata": {
    "id": "bWkuLDpjm8Id"
   },
   "outputs": [],
   "source": [
    "decoder = Sequential()\n",
    "decoder.add(Dense(50,input_shape=[25],activation='relu'))\n",
    "\n",
    "#\n",
    "# Add as many layers in the decoder as you want. Reember - Encoder and decoder need to be symmetric.\n",
    "#\n",
    "decoder.add(Dense(100, activation='relu'))\n",
    "decoder.add(Dense(200, activation='relu'))\n",
    "decoder.add(Dense(400, activation='relu'))\n",
    "\n",
    "\n",
    "decoder.add(Dense(28 * 28, activation=\"sigmoid\"))\n",
    "decoder.add(Reshape([28, 28]))"
   ]
  },
  {
   "cell_type": "code",
   "execution_count": 8,
   "metadata": {},
   "outputs": [
    {
     "name": "stdout",
     "output_type": "stream",
     "text": [
      "Model: \"sequential_1\"\n",
      "_________________________________________________________________\n",
      " Layer (type)                Output Shape              Param #   \n",
      "=================================================================\n",
      " dense_5 (Dense)             (None, 50)                1300      \n",
      "                                                                 \n",
      " dense_6 (Dense)             (None, 100)               5100      \n",
      "                                                                 \n",
      " dense_7 (Dense)             (None, 200)               20200     \n",
      "                                                                 \n",
      " dense_8 (Dense)             (None, 400)               80400     \n",
      "                                                                 \n",
      " dense_9 (Dense)             (None, 784)               314384    \n",
      "                                                                 \n",
      " reshape (Reshape)           (None, 28, 28)            0         \n",
      "                                                                 \n",
      "=================================================================\n",
      "Total params: 421384 (1.61 MB)\n",
      "Trainable params: 421384 (1.61 MB)\n",
      "Non-trainable params: 0 (0.00 Byte)\n",
      "_________________________________________________________________\n"
     ]
    }
   ],
   "source": [
    "# print the decoder model\n",
    "decoder.summary()"
   ]
  },
  {
   "cell_type": "code",
   "execution_count": 9,
   "metadata": {
    "id": "Iic4UbbXm8Id"
   },
   "outputs": [],
   "source": [
    "autoencoder = Sequential([encoder, decoder]) # Combine encoder and decoder together.\n"
   ]
  },
  {
   "cell_type": "code",
   "execution_count": 10,
   "metadata": {},
   "outputs": [
    {
     "name": "stdout",
     "output_type": "stream",
     "text": [
      "Model: \"sequential_2\"\n",
      "_________________________________________________________________\n",
      " Layer (type)                Output Shape              Param #   \n",
      "=================================================================\n",
      " sequential (Sequential)     (None, 25)                420625    \n",
      "                                                                 \n",
      " sequential_1 (Sequential)   (None, 28, 28)            421384    \n",
      "                                                                 \n",
      "=================================================================\n",
      "Total params: 842009 (3.21 MB)\n",
      "Trainable params: 842009 (3.21 MB)\n",
      "Non-trainable params: 0 (0.00 Byte)\n",
      "_________________________________________________________________\n"
     ]
    }
   ],
   "source": [
    "# print the autoencoder model\n",
    "autoencoder.summary()"
   ]
  },
  {
   "cell_type": "code",
   "execution_count": 11,
   "metadata": {
    "id": "Vps8w9u-m8Id"
   },
   "outputs": [
    {
     "name": "stdout",
     "output_type": "stream",
     "text": [
      "WARNING:tensorflow:From C:\\Users\\arsha\\anaconda3\\Lib\\site-packages\\keras\\src\\optimizers\\__init__.py:309: The name tf.train.Optimizer is deprecated. Please use tf.compat.v1.train.Optimizer instead.\n",
      "\n"
     ]
    }
   ],
   "source": [
    "# Compile the autoencoder. Use binary_crossenropy as loss and metrics as accuracy.\n",
    "autoencoder.compile(optimizer='adam', loss='binary_crossentropy', metrics=[binary_accuracy])\n"
   ]
  },
  {
   "cell_type": "code",
   "execution_count": 12,
   "metadata": {},
   "outputs": [
    {
     "name": "stdout",
     "output_type": "stream",
     "text": [
      "Epoch 1/50\n",
      "WARNING:tensorflow:From C:\\Users\\arsha\\anaconda3\\Lib\\site-packages\\keras\\src\\utils\\tf_utils.py:492: The name tf.ragged.RaggedTensorValue is deprecated. Please use tf.compat.v1.ragged.RaggedTensorValue instead.\n",
      "\n",
      "WARNING:tensorflow:From C:\\Users\\arsha\\anaconda3\\Lib\\site-packages\\keras\\src\\engine\\base_layer_utils.py:384: The name tf.executing_eagerly_outside_functions is deprecated. Please use tf.compat.v1.executing_eagerly_outside_functions instead.\n",
      "\n",
      "1875/1875 [==============================] - 32s 15ms/step - loss: 0.1730 - binary_accuracy: 0.7999 - val_loss: 0.1358 - val_binary_accuracy: 0.8052\n",
      "Epoch 2/50\n",
      "1875/1875 [==============================] - 24s 13ms/step - loss: 0.1280 - binary_accuracy: 0.8079 - val_loss: 0.1226 - val_binary_accuracy: 0.8080\n",
      "Epoch 3/50\n",
      "1875/1875 [==============================] - 26s 14ms/step - loss: 0.1201 - binary_accuracy: 0.8093 - val_loss: 0.1170 - val_binary_accuracy: 0.8087\n",
      "Epoch 4/50\n",
      "1875/1875 [==============================] - 25s 13ms/step - loss: 0.1146 - binary_accuracy: 0.8103 - val_loss: 0.1132 - val_binary_accuracy: 0.8099\n",
      "Epoch 5/50\n",
      "1875/1875 [==============================] - 25s 13ms/step - loss: 0.1106 - binary_accuracy: 0.8110 - val_loss: 0.1086 - val_binary_accuracy: 0.8102\n",
      "Epoch 6/50\n",
      "1875/1875 [==============================] - 25s 13ms/step - loss: 0.1074 - binary_accuracy: 0.8115 - val_loss: 0.1064 - val_binary_accuracy: 0.8110\n",
      "Epoch 7/50\n",
      "1875/1875 [==============================] - 25s 13ms/step - loss: 0.1053 - binary_accuracy: 0.8118 - val_loss: 0.1046 - val_binary_accuracy: 0.8106\n",
      "Epoch 8/50\n",
      "1875/1875 [==============================] - 25s 13ms/step - loss: 0.1035 - binary_accuracy: 0.8121 - val_loss: 0.1032 - val_binary_accuracy: 0.8111\n",
      "Epoch 9/50\n",
      "1875/1875 [==============================] - 26s 14ms/step - loss: 0.1021 - binary_accuracy: 0.8123 - val_loss: 0.1029 - val_binary_accuracy: 0.8111\n",
      "Epoch 10/50\n",
      "1875/1875 [==============================] - 25s 13ms/step - loss: 0.1009 - binary_accuracy: 0.8125 - val_loss: 0.1010 - val_binary_accuracy: 0.8117\n",
      "Epoch 11/50\n",
      "1875/1875 [==============================] - 27s 14ms/step - loss: 0.0997 - binary_accuracy: 0.8126 - val_loss: 0.1007 - val_binary_accuracy: 0.8111\n",
      "Epoch 12/50\n",
      "1875/1875 [==============================] - 25s 13ms/step - loss: 0.0987 - binary_accuracy: 0.8128 - val_loss: 0.0993 - val_binary_accuracy: 0.8114\n",
      "Epoch 13/50\n",
      "1875/1875 [==============================] - 26s 14ms/step - loss: 0.0976 - binary_accuracy: 0.8129 - val_loss: 0.0987 - val_binary_accuracy: 0.8118\n",
      "Epoch 14/50\n",
      "1875/1875 [==============================] - 26s 14ms/step - loss: 0.0966 - binary_accuracy: 0.8131 - val_loss: 0.0978 - val_binary_accuracy: 0.8117\n",
      "Epoch 15/50\n",
      "1875/1875 [==============================] - 25s 13ms/step - loss: 0.0957 - binary_accuracy: 0.8132 - val_loss: 0.0963 - val_binary_accuracy: 0.8119\n",
      "Epoch 16/50\n",
      "1875/1875 [==============================] - 24s 13ms/step - loss: 0.0948 - binary_accuracy: 0.8133 - val_loss: 0.0962 - val_binary_accuracy: 0.8119\n",
      "Epoch 17/50\n",
      "1875/1875 [==============================] - 25s 13ms/step - loss: 0.0940 - binary_accuracy: 0.8134 - val_loss: 0.0946 - val_binary_accuracy: 0.8121\n",
      "Epoch 18/50\n",
      "1875/1875 [==============================] - 28s 15ms/step - loss: 0.0934 - binary_accuracy: 0.8135 - val_loss: 0.0945 - val_binary_accuracy: 0.8123\n",
      "Epoch 19/50\n",
      "1875/1875 [==============================] - 27s 14ms/step - loss: 0.0928 - binary_accuracy: 0.8136 - val_loss: 0.0935 - val_binary_accuracy: 0.8125\n",
      "Epoch 20/50\n",
      "1875/1875 [==============================] - 28s 15ms/step - loss: 0.0921 - binary_accuracy: 0.8136 - val_loss: 0.0936 - val_binary_accuracy: 0.8123\n",
      "Epoch 21/50\n",
      "1875/1875 [==============================] - 27s 15ms/step - loss: 0.0917 - binary_accuracy: 0.8137 - val_loss: 0.0937 - val_binary_accuracy: 0.8121\n",
      "Epoch 22/50\n",
      "1875/1875 [==============================] - 27s 15ms/step - loss: 0.0912 - binary_accuracy: 0.8137 - val_loss: 0.0930 - val_binary_accuracy: 0.8124\n",
      "Epoch 23/50\n",
      "1875/1875 [==============================] - 26s 14ms/step - loss: 0.0907 - binary_accuracy: 0.8138 - val_loss: 0.0924 - val_binary_accuracy: 0.8123\n",
      "Epoch 24/50\n",
      "1875/1875 [==============================] - 27s 14ms/step - loss: 0.0903 - binary_accuracy: 0.8138 - val_loss: 0.0916 - val_binary_accuracy: 0.8124\n",
      "Epoch 25/50\n",
      "1875/1875 [==============================] - 26s 14ms/step - loss: 0.0899 - binary_accuracy: 0.8139 - val_loss: 0.0919 - val_binary_accuracy: 0.8126\n",
      "Epoch 26/50\n",
      "1875/1875 [==============================] - 25s 13ms/step - loss: 0.0895 - binary_accuracy: 0.8139 - val_loss: 0.0918 - val_binary_accuracy: 0.8126\n",
      "Epoch 27/50\n",
      "1875/1875 [==============================] - 26s 14ms/step - loss: 0.0892 - binary_accuracy: 0.8139 - val_loss: 0.0910 - val_binary_accuracy: 0.8127\n",
      "Epoch 28/50\n",
      "1875/1875 [==============================] - 26s 14ms/step - loss: 0.0889 - binary_accuracy: 0.8140 - val_loss: 0.0908 - val_binary_accuracy: 0.8127\n",
      "Epoch 29/50\n",
      "1875/1875 [==============================] - 25s 14ms/step - loss: 0.0887 - binary_accuracy: 0.8140 - val_loss: 0.0906 - val_binary_accuracy: 0.8127\n",
      "Epoch 30/50\n",
      "1875/1875 [==============================] - 26s 14ms/step - loss: 0.0883 - binary_accuracy: 0.8140 - val_loss: 0.0900 - val_binary_accuracy: 0.8127\n",
      "Epoch 31/50\n",
      "1875/1875 [==============================] - 25s 13ms/step - loss: 0.0881 - binary_accuracy: 0.8141 - val_loss: 0.0898 - val_binary_accuracy: 0.8126\n",
      "Epoch 32/50\n",
      "1875/1875 [==============================] - 27s 14ms/step - loss: 0.0879 - binary_accuracy: 0.8141 - val_loss: 0.0910 - val_binary_accuracy: 0.8125\n",
      "Epoch 33/50\n",
      "1875/1875 [==============================] - 26s 14ms/step - loss: 0.0877 - binary_accuracy: 0.8141 - val_loss: 0.0893 - val_binary_accuracy: 0.8129\n",
      "Epoch 34/50\n",
      "1875/1875 [==============================] - 24s 13ms/step - loss: 0.0875 - binary_accuracy: 0.8141 - val_loss: 0.0890 - val_binary_accuracy: 0.8129\n",
      "Epoch 35/50\n",
      "1875/1875 [==============================] - 25s 13ms/step - loss: 0.0874 - binary_accuracy: 0.8141 - val_loss: 0.0895 - val_binary_accuracy: 0.8129\n",
      "Epoch 36/50\n",
      "1875/1875 [==============================] - 25s 13ms/step - loss: 0.0871 - binary_accuracy: 0.8142 - val_loss: 0.0890 - val_binary_accuracy: 0.8128\n",
      "Epoch 37/50\n",
      "1875/1875 [==============================] - 25s 13ms/step - loss: 0.0870 - binary_accuracy: 0.8142 - val_loss: 0.0907 - val_binary_accuracy: 0.8126\n",
      "Epoch 38/50\n",
      "1875/1875 [==============================] - 25s 13ms/step - loss: 0.0868 - binary_accuracy: 0.8142 - val_loss: 0.0900 - val_binary_accuracy: 0.8127\n",
      "Epoch 39/50\n",
      "1875/1875 [==============================] - 25s 13ms/step - loss: 0.0867 - binary_accuracy: 0.8142 - val_loss: 0.0891 - val_binary_accuracy: 0.8129\n",
      "Epoch 40/50\n",
      "1875/1875 [==============================] - 24s 13ms/step - loss: 0.0866 - binary_accuracy: 0.8142 - val_loss: 0.0897 - val_binary_accuracy: 0.8130\n",
      "Epoch 41/50\n",
      "1875/1875 [==============================] - 24s 13ms/step - loss: 0.0864 - binary_accuracy: 0.8142 - val_loss: 0.0895 - val_binary_accuracy: 0.8129\n",
      "Epoch 42/50\n",
      "1875/1875 [==============================] - 25s 13ms/step - loss: 0.0863 - binary_accuracy: 0.8143 - val_loss: 0.0903 - val_binary_accuracy: 0.8130\n",
      "Epoch 43/50\n",
      "1875/1875 [==============================] - 26s 14ms/step - loss: 0.0861 - binary_accuracy: 0.8143 - val_loss: 0.0891 - val_binary_accuracy: 0.8128\n",
      "Epoch 44/50\n",
      "1875/1875 [==============================] - 26s 14ms/step - loss: 0.0861 - binary_accuracy: 0.8143 - val_loss: 0.0880 - val_binary_accuracy: 0.8130\n",
      "Epoch 45/50\n",
      "1875/1875 [==============================] - 24s 13ms/step - loss: 0.0860 - binary_accuracy: 0.8143 - val_loss: 0.0886 - val_binary_accuracy: 0.8129\n",
      "Epoch 46/50\n",
      "1875/1875 [==============================] - 24s 13ms/step - loss: 0.0858 - binary_accuracy: 0.8143 - val_loss: 0.0883 - val_binary_accuracy: 0.8130\n",
      "Epoch 47/50\n",
      "1875/1875 [==============================] - 24s 13ms/step - loss: 0.0857 - binary_accuracy: 0.8143 - val_loss: 0.0884 - val_binary_accuracy: 0.8129\n",
      "Epoch 48/50\n",
      "1875/1875 [==============================] - 25s 13ms/step - loss: 0.0857 - binary_accuracy: 0.8143 - val_loss: 0.0879 - val_binary_accuracy: 0.8130\n",
      "Epoch 49/50\n"
     ]
    },
    {
     "name": "stdout",
     "output_type": "stream",
     "text": [
      "1875/1875 [==============================] - 24s 13ms/step - loss: 0.0855 - binary_accuracy: 0.8143 - val_loss: 0.0882 - val_binary_accuracy: 0.8129\n",
      "Epoch 50/50\n",
      "1875/1875 [==============================] - 24s 13ms/step - loss: 0.0855 - binary_accuracy: 0.8143 - val_loss: 0.0885 - val_binary_accuracy: 0.8128\n"
     ]
    },
    {
     "data": {
      "text/plain": [
       "<keras.src.callbacks.History at 0x2135a8ad550>"
      ]
     },
     "execution_count": 12,
     "metadata": {},
     "output_type": "execute_result"
    }
   ],
   "source": [
    "# Fit the autoencoder. Note - Input and output are same. x_train is your train data, x_test is your validation data.\n",
    "autoencoder.fit(x_train, x_train, epochs=50, batch_size=32, shuffle=True, validation_data=(x_test, x_test))\n"
   ]
  },
  {
   "cell_type": "code",
   "execution_count": 13,
   "metadata": {},
   "outputs": [
    {
     "name": "stdout",
     "output_type": "stream",
     "text": [
      "313/313 [==============================] - 3s 5ms/step\n"
     ]
    },
    {
     "data": {
      "image/png": "[encoded data removed]",
      "text/plain": [
       "<Figure size 2000x400 with 20 Axes>"
      ]
     },
     "metadata": {},
     "output_type": "display_data"
    }
   ],
   "source": [
    "import matplotlib.pyplot as plt\n",
    "\n",
    "# Predict the reconstructed images using the autoencoder\n",
    "decoded_imgs = autoencoder.predict(x_test)\n",
    "\n",
    "# Choose the number of images to display\n",
    "n = 10\n",
    "\n",
    "# Create a figure with subplots for the original and reconstructed images\n",
    "fig, axs = plt.subplots(2, n, figsize=(20, 4))\n",
    "\n",
    "# Display the original images\n",
    "for i in range(n):\n",
    "    ax = axs[0, i]\n",
    "    ax.imshow(x_test[i].reshape(28, 28), cmap='gray')\n",
    "    ax.get_xaxis().set_visible(False)\n",
    "    ax.get_yaxis().set_visible(False)\n",
    "\n",
    "# Display the reconstructed images\n",
    "for i in range(n):\n",
    "    ax = axs[1, i]\n",
    "    ax.imshow(decoded_imgs[i].reshape(28, 28), cmap='gray')\n",
    "    ax.get_xaxis().set_visible(False)\n",
    "    ax.get_yaxis().set_visible(False)\n",
    "\n",
    "# Show the figure\n",
    "plt.show()"
   ]
  },
  {
   "cell_type": "markdown",
   "metadata": {
    "id": "uBRgywR9m8Ie"
   },
   "source": [
    "# AutoEncoders for Denoising Images\n",
    "\n",
    "Use the same digit data set. Add Gaussian noise to it to train an autoencoder that removes noise. Test the noisy samples. "
   ]
  },
  {
   "cell_type": "code",
   "execution_count": 14,
   "metadata": {
    "id": "OdDjYQC5m8Ie"
   },
   "outputs": [],
   "source": [
    "from tensorflow.keras.layers import GaussianNoise"
   ]
  },
  {
   "cell_type": "code",
   "execution_count": 15,
   "metadata": {
    "id": "da3tX601m8Ie"
   },
   "outputs": [],
   "source": [
    "sample = GaussianNoise(0.2)\n",
    "noisey = sample(x_test[0:2],training=True)"
   ]
  },
  {
   "cell_type": "code",
   "execution_count": 16,
   "metadata": {
    "colab": {
     "base_uri": "https://localhost:8080/",
     "height": 283
    },
    "id": "QrTuAs-Hm8Ie",
    "outputId": "5e85506e-6980-4470-b322-eaf6c911bba5"
   },
   "outputs": [
    {
     "data": {
      "text/plain": [
       "<matplotlib.image.AxesImage at 0x21364edb350>"
      ]
     },
     "execution_count": 16,
     "metadata": {},
     "output_type": "execute_result"
    },
    {
     "data": {
      "image/png": "[encoded data removed]",
      "text/plain": [
       "<Figure size 640x480 with 1 Axes>"
      ]
     },
     "metadata": {},
     "output_type": "display_data"
    }
   ],
   "source": [
    "plt.imshow(x_test[0])"
   ]
  },
  {
   "cell_type": "code",
   "execution_count": 17,
   "metadata": {
    "colab": {
     "base_uri": "https://localhost:8080/",
     "height": 283
    },
    "id": "-O6S5HhSm8If",
    "outputId": "3b2e48c8-b14d-4080-869d-734844ce5ac1"
   },
   "outputs": [
    {
     "data": {
      "text/plain": [
       "<matplotlib.image.AxesImage at 0x2135cb6bf10>"
      ]
     },
     "execution_count": 17,
     "metadata": {},
     "output_type": "execute_result"
    },
    {
     "data": {
      "image/png": "[encoded data removed]",
      "text/plain": [
       "<Figure size 640x480 with 1 Axes>"
      ]
     },
     "metadata": {},
     "output_type": "display_data"
    }
   ],
   "source": [
    "plt.imshow(noisey[0])"
   ]
  },
  {
   "cell_type": "markdown",
   "metadata": {
    "id": "PCnzI8Mrm8If"
   },
   "source": [
    "### Create  noise removal autoencoder and train it.\n",
    "\n",
    "# Input - Images with noise\n",
    "# Labels - Clean images."
   ]
  },
  {
   "cell_type": "code",
   "execution_count": 18,
   "metadata": {
    "id": "sAwfn_Uqm8If"
   },
   "outputs": [],
   "source": [
    "\n",
    "encoder = Sequential()\n",
    "encoder.add(Flatten(input_shape=[28,28]))\n",
    "encoder.add(GaussianNoise(0.2)) # We are adding noise to make input as noisy image\n",
    "#\n",
    "# Add layers of encoder network. You could use same number of layers as earlier.\n",
    "#\n",
    "encoder.add(Dense(400, activation='relu'))\n",
    "encoder.add(Dense(200, activation='relu'))\n",
    "encoder.add(Dense(100, activation='relu'))\n",
    "encoder.add(Dense(50, activation='relu'))\n",
    "encoder.add(Dense(25, activation='relu'))\n"
   ]
  },
  {
   "cell_type": "code",
   "execution_count": 19,
   "metadata": {
    "id": "w51A8hiQm8If"
   },
   "outputs": [],
   "source": [
    "decoder = Sequential()\n",
    "decoder.add(Dense(50,input_shape=[25],activation='relu'))\n",
    "\n",
    "#\n",
    "# Add layers of decoder network. You could use same number of layers as earlier.\n",
    "#\n",
    "decoder.add(Dense(100, activation='relu'))\n",
    "decoder.add(Dense(200, activation='relu'))\n",
    "decoder.add(Dense(400, activation='relu'))\n",
    "\n",
    "decoder.add(Dense(28 * 28, activation=\"sigmoid\"))\n",
    "decoder.add(Reshape([28, 28]))"
   ]
  },
  {
   "cell_type": "code",
   "execution_count": 20,
   "metadata": {
    "id": "kHurlGFvm8If"
   },
   "outputs": [],
   "source": [
    "noise_remover = Sequential([encoder, decoder])"
   ]
  },
  {
   "cell_type": "code",
   "execution_count": 21,
   "metadata": {
    "id": "fpY3GDCBm8If"
   },
   "outputs": [],
   "source": [
    "# Compile the network as earlier\n",
    "noise_remover.compile(optimizer='adam', loss='binary_crossentropy', metrics=[binary_accuracy])\n"
   ]
  },
  {
   "cell_type": "code",
   "execution_count": 22,
   "metadata": {},
   "outputs": [
    {
     "name": "stdout",
     "output_type": "stream",
     "text": [
      "Epoch 1/50\n",
      "1875/1875 [==============================] - 31s 14ms/step - loss: 0.1709 - binary_accuracy: 0.8006 - val_loss: 0.1375 - val_binary_accuracy: 0.8049\n",
      "Epoch 2/50\n",
      "1875/1875 [==============================] - 26s 14ms/step - loss: 0.1332 - binary_accuracy: 0.8073 - val_loss: 0.1226 - val_binary_accuracy: 0.8082\n",
      "Epoch 3/50\n",
      "1875/1875 [==============================] - 26s 14ms/step - loss: 0.1231 - binary_accuracy: 0.8092 - val_loss: 0.1152 - val_binary_accuracy: 0.8093\n",
      "Epoch 4/50\n",
      "1875/1875 [==============================] - 26s 14ms/step - loss: 0.1179 - binary_accuracy: 0.8100 - val_loss: 0.1132 - val_binary_accuracy: 0.8095\n",
      "Epoch 5/50\n",
      "1875/1875 [==============================] - 26s 14ms/step - loss: 0.1145 - binary_accuracy: 0.8106 - val_loss: 0.1093 - val_binary_accuracy: 0.8102\n",
      "Epoch 6/50\n",
      "1875/1875 [==============================] - 26s 14ms/step - loss: 0.1114 - binary_accuracy: 0.8111 - val_loss: 0.1066 - val_binary_accuracy: 0.8104\n",
      "Epoch 7/50\n",
      "1875/1875 [==============================] - 26s 14ms/step - loss: 0.1092 - binary_accuracy: 0.8114 - val_loss: 0.1052 - val_binary_accuracy: 0.8111\n",
      "Epoch 8/50\n",
      "1875/1875 [==============================] - 26s 14ms/step - loss: 0.1075 - binary_accuracy: 0.8117 - val_loss: 0.1035 - val_binary_accuracy: 0.8112\n",
      "Epoch 9/50\n",
      "1875/1875 [==============================] - 25s 14ms/step - loss: 0.1059 - binary_accuracy: 0.8120 - val_loss: 0.1019 - val_binary_accuracy: 0.8114\n",
      "Epoch 10/50\n",
      "1875/1875 [==============================] - 26s 14ms/step - loss: 0.1044 - binary_accuracy: 0.8122 - val_loss: 0.1007 - val_binary_accuracy: 0.8118\n",
      "Epoch 11/50\n",
      "1875/1875 [==============================] - 25s 13ms/step - loss: 0.1031 - binary_accuracy: 0.8124 - val_loss: 0.1003 - val_binary_accuracy: 0.8115\n",
      "Epoch 12/50\n",
      "1875/1875 [==============================] - 26s 14ms/step - loss: 0.1022 - binary_accuracy: 0.8125 - val_loss: 0.0991 - val_binary_accuracy: 0.8120\n",
      "Epoch 13/50\n",
      "1875/1875 [==============================] - 25s 14ms/step - loss: 0.1013 - binary_accuracy: 0.8126 - val_loss: 0.0973 - val_binary_accuracy: 0.8121\n",
      "Epoch 14/50\n",
      "1875/1875 [==============================] - 25s 14ms/step - loss: 0.1005 - binary_accuracy: 0.8127 - val_loss: 0.0970 - val_binary_accuracy: 0.8122\n",
      "Epoch 15/50\n",
      "1875/1875 [==============================] - 25s 13ms/step - loss: 0.0998 - binary_accuracy: 0.8128 - val_loss: 0.0969 - val_binary_accuracy: 0.8122\n",
      "Epoch 16/50\n",
      "1875/1875 [==============================] - 26s 14ms/step - loss: 0.0992 - binary_accuracy: 0.8129 - val_loss: 0.0971 - val_binary_accuracy: 0.8121\n",
      "Epoch 17/50\n",
      "1875/1875 [==============================] - 26s 14ms/step - loss: 0.0987 - binary_accuracy: 0.8130 - val_loss: 0.0957 - val_binary_accuracy: 0.8124\n",
      "Epoch 18/50\n",
      "1875/1875 [==============================] - 26s 14ms/step - loss: 0.0982 - binary_accuracy: 0.8130 - val_loss: 0.0953 - val_binary_accuracy: 0.8124\n",
      "Epoch 19/50\n",
      "1875/1875 [==============================] - 26s 14ms/step - loss: 0.0978 - binary_accuracy: 0.8131 - val_loss: 0.0959 - val_binary_accuracy: 0.8125\n",
      "Epoch 20/50\n",
      "1875/1875 [==============================] - 141s 75ms/step - loss: 0.0975 - binary_accuracy: 0.8131 - val_loss: 0.0953 - val_binary_accuracy: 0.8120\n",
      "Epoch 21/50\n",
      "1875/1875 [==============================] - 26s 14ms/step - loss: 0.0970 - binary_accuracy: 0.8132 - val_loss: 0.0946 - val_binary_accuracy: 0.8125\n",
      "Epoch 22/50\n",
      "1875/1875 [==============================] - 26s 14ms/step - loss: 0.0967 - binary_accuracy: 0.8132 - val_loss: 0.0945 - val_binary_accuracy: 0.8123\n",
      "Epoch 23/50\n",
      "1875/1875 [==============================] - 27s 14ms/step - loss: 0.0965 - binary_accuracy: 0.8133 - val_loss: 0.0937 - val_binary_accuracy: 0.8125\n",
      "Epoch 24/50\n",
      "1875/1875 [==============================] - 27s 14ms/step - loss: 0.0961 - binary_accuracy: 0.8133 - val_loss: 0.0939 - val_binary_accuracy: 0.8125\n",
      "Epoch 25/50\n",
      "1875/1875 [==============================] - 27s 14ms/step - loss: 0.0959 - binary_accuracy: 0.8133 - val_loss: 0.0934 - val_binary_accuracy: 0.8125\n",
      "Epoch 26/50\n",
      "1875/1875 [==============================] - 26s 14ms/step - loss: 0.0956 - binary_accuracy: 0.8134 - val_loss: 0.0931 - val_binary_accuracy: 0.8125\n",
      "Epoch 27/50\n",
      "1875/1875 [==============================] - 26s 14ms/step - loss: 0.0953 - binary_accuracy: 0.8134 - val_loss: 0.0933 - val_binary_accuracy: 0.8125\n",
      "Epoch 28/50\n",
      "1875/1875 [==============================] - 26s 14ms/step - loss: 0.0950 - binary_accuracy: 0.8134 - val_loss: 0.0931 - val_binary_accuracy: 0.8126\n",
      "Epoch 29/50\n",
      "1875/1875 [==============================] - 26s 14ms/step - loss: 0.0948 - binary_accuracy: 0.8134 - val_loss: 0.0921 - val_binary_accuracy: 0.8126\n",
      "Epoch 30/50\n",
      "1875/1875 [==============================] - 26s 14ms/step - loss: 0.0945 - binary_accuracy: 0.8135 - val_loss: 0.0924 - val_binary_accuracy: 0.8127\n",
      "Epoch 31/50\n",
      "1875/1875 [==============================] - 26s 14ms/step - loss: 0.0943 - binary_accuracy: 0.8135 - val_loss: 0.0915 - val_binary_accuracy: 0.8128\n",
      "Epoch 32/50\n",
      "1875/1875 [==============================] - 26s 14ms/step - loss: 0.0941 - binary_accuracy: 0.8135 - val_loss: 0.0922 - val_binary_accuracy: 0.8129\n",
      "Epoch 33/50\n",
      "1875/1875 [==============================] - 26s 14ms/step - loss: 0.0939 - binary_accuracy: 0.8135 - val_loss: 0.0923 - val_binary_accuracy: 0.8129\n",
      "Epoch 34/50\n",
      "1875/1875 [==============================] - 26s 14ms/step - loss: 0.0937 - binary_accuracy: 0.8136 - val_loss: 0.0912 - val_binary_accuracy: 0.8129\n",
      "Epoch 35/50\n",
      "1875/1875 [==============================] - 26s 14ms/step - loss: 0.0935 - binary_accuracy: 0.8136 - val_loss: 0.0912 - val_binary_accuracy: 0.8126\n",
      "Epoch 36/50\n",
      "1875/1875 [==============================] - 25s 13ms/step - loss: 0.0934 - binary_accuracy: 0.8136 - val_loss: 0.0908 - val_binary_accuracy: 0.8127\n",
      "Epoch 37/50\n",
      "1875/1875 [==============================] - 25s 13ms/step - loss: 0.0932 - binary_accuracy: 0.8136 - val_loss: 0.0920 - val_binary_accuracy: 0.8124\n",
      "Epoch 38/50\n",
      "1875/1875 [==============================] - 25s 13ms/step - loss: 0.0931 - binary_accuracy: 0.8136 - val_loss: 0.0913 - val_binary_accuracy: 0.8127\n",
      "Epoch 39/50\n",
      "1875/1875 [==============================] - 25s 14ms/step - loss: 0.0928 - binary_accuracy: 0.8137 - val_loss: 0.0910 - val_binary_accuracy: 0.8128\n",
      "Epoch 40/50\n",
      "1875/1875 [==============================] - 25s 13ms/step - loss: 0.0928 - binary_accuracy: 0.8137 - val_loss: 0.0904 - val_binary_accuracy: 0.8129\n",
      "Epoch 41/50\n",
      "1875/1875 [==============================] - 26s 14ms/step - loss: 0.0927 - binary_accuracy: 0.8137 - val_loss: 0.0907 - val_binary_accuracy: 0.8128\n",
      "Epoch 42/50\n",
      "1875/1875 [==============================] - 25s 14ms/step - loss: 0.0925 - binary_accuracy: 0.8137 - val_loss: 0.0900 - val_binary_accuracy: 0.8128\n",
      "Epoch 43/50\n",
      "1875/1875 [==============================] - 25s 14ms/step - loss: 0.0924 - binary_accuracy: 0.8137 - val_loss: 0.0902 - val_binary_accuracy: 0.8130\n",
      "Epoch 44/50\n",
      "1875/1875 [==============================] - 25s 13ms/step - loss: 0.0923 - binary_accuracy: 0.8137 - val_loss: 0.0899 - val_binary_accuracy: 0.8131\n",
      "Epoch 45/50\n",
      "1875/1875 [==============================] - 25s 13ms/step - loss: 0.0921 - binary_accuracy: 0.8137 - val_loss: 0.0902 - val_binary_accuracy: 0.8128\n",
      "Epoch 46/50\n",
      "1875/1875 [==============================] - 25s 13ms/step - loss: 0.0921 - binary_accuracy: 0.8137 - val_loss: 0.0901 - val_binary_accuracy: 0.8128\n",
      "Epoch 47/50\n",
      "1875/1875 [==============================] - 25s 14ms/step - loss: 0.0920 - binary_accuracy: 0.8138 - val_loss: 0.0910 - val_binary_accuracy: 0.8130\n",
      "Epoch 48/50\n",
      "1875/1875 [==============================] - 25s 14ms/step - loss: 0.0919 - binary_accuracy: 0.8138 - val_loss: 0.0897 - val_binary_accuracy: 0.8128\n",
      "Epoch 49/50\n",
      "1875/1875 [==============================] - 39s 21ms/step - loss: 0.0918 - binary_accuracy: 0.8138 - val_loss: 0.0903 - val_binary_accuracy: 0.8128\n",
      "Epoch 50/50\n",
      "1875/1875 [==============================] - 27s 14ms/step - loss: 0.0916 - binary_accuracy: 0.8138 - val_loss: 0.0892 - val_binary_accuracy: 0.8130\n"
     ]
    },
    {
     "data": {
      "text/plain": [
       "<keras.src.callbacks.History at 0x2134a15dfd0>"
      ]
     },
     "execution_count": 22,
     "metadata": {},
     "output_type": "execute_result"
    }
   ],
   "source": [
    "# Fit the network as earlier.\n",
    "noise_remover.fit(x_train, x_train, epochs=50, batch_size=32, shuffle=True, validation_data=(x_test, x_test))\n"
   ]
  },
  {
   "cell_type": "code",
   "execution_count": 23,
   "metadata": {
    "id": "rQXenyFYm8Ig"
   },
   "outputs": [],
   "source": [
    "ten_noisey_images = sample(x_test[0:10],training=True)\n",
    "denoised = noise_remover(ten_noisey_images[0:10])"
   ]
  },
  {
   "cell_type": "code",
   "execution_count": 24,
   "metadata": {
    "id": "2IJtMOcKm8Ig",
    "scrolled": true
   },
   "outputs": [
    {
     "name": "stdout",
     "output_type": "stream",
     "text": [
      "The Original\n"
     ]
    },
    {
     "data": {
      "image/png": "[encoded data removed]",
      "text/plain": [
       "<Figure size 640x480 with 1 Axes>"
      ]
     },
     "metadata": {},
     "output_type": "display_data"
    },
    {
     "name": "stdout",
     "output_type": "stream",
     "text": [
      "The Noisey Version\n"
     ]
    },
    {
     "data": {
      "image/png": "[encoded data removed]",
      "text/plain": [
       "<Figure size 640x480 with 1 Axes>"
      ]
     },
     "metadata": {},
     "output_type": "display_data"
    },
    {
     "name": "stdout",
     "output_type": "stream",
     "text": [
      "After going through denoiser\n"
     ]
    },
    {
     "data": {
      "image/png": "[encoded data removed]",
      "text/plain": [
       "<Figure size 640x480 with 1 Axes>"
      ]
     },
     "metadata": {},
     "output_type": "display_data"
    }
   ],
   "source": [
    "n = 4\n",
    "print(\"The Original\")\n",
    "plt.imshow(x_test[n])\n",
    "plt.show()\n",
    "\n",
    "\n",
    "print(\"The Noisey Version\")\n",
    "plt.imshow(ten_noisey_images[n])\n",
    "plt.show()\n",
    "\n",
    "\n",
    "print(\"After going through denoiser\")\n",
    "plt.imshow(denoised[n])\n",
    "plt.show()"
   ]
  },
  {
   "cell_type": "code",
   "execution_count": null,
   "metadata": {},
   "outputs": [],
   "source": []
  },
  {
   "cell_type": "markdown",
   "metadata": {},
   "source": [
    "## Lab Logbook requirement:\n",
    "\n",
    "- Put the model summary for task 1 in you lab logbook.\n",
    "\n",
    "Ensure that no code or other information is added to the logbook and that only required information is present.  Marks will not be awarded if anything else is found in the logbook or instructions are not clearly followed.\n",
    "\n",
    "NOTE: DON'T FORGET TO SAVE AND BACK UP YOUR COMPLETED JUPYTER NOTEBOOK AND LAB LOGBOOK ON GITHUB OR ONEDRIVE."
   ]
  }
 ],
 "metadata": {
  "colab": {
   "provenance": []
  },
  "kernelspec": {
   "display_name": "Python 3 (ipykernel)",
   "language": "python",
   "name": "python3"
  },
  "language_info": {
   "codemirror_mode": {
    "name": "ipython",
    "version": 3
   },
   "file_extension": ".py",
   "mimetype": "text/x-python",
   "name": "python",
   "nbconvert_exporter": "python",
   "pygments_lexer": "ipython3",
   "version": "3.11.4"
  }
 },
 "nbformat": 4,
 "nbformat_minor": 1
}
